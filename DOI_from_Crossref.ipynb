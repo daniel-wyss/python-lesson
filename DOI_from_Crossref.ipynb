{
 "cells": [
  {
   "cell_type": "code",
   "execution_count": 1,
   "metadata": {},
   "outputs": [],
   "source": [
    "# Benötigte Pakete laden\n",
    "import urllib.request\n",
    "import json"
   ]
  },
  {
   "cell_type": "code",
   "execution_count": 2,
   "metadata": {},
   "outputs": [],
   "source": [
    "# Variablen definieren\n",
    "base_url = \"https://api.crossref.org/works/\"\n",
    "doi = \"10.1371/journal.pcbi.1004668\"\n",
    "# Gesamt-URL besteht aus Base_url und DOI, die wird zusammengesetzt\n",
    "full_url = base_url + doi"
   ]
  },
  {
   "cell_type": "code",
   "execution_count": 5,
   "metadata": {},
   "outputs": [
    {
     "name": "stdout",
     "output_type": "stream",
     "text": [
      "https://api.crossref.org/works/10.1371/journal.pcbi.1004668\n"
     ]
    }
   ],
   "source": [
    "print(full_url)"
   ]
  },
  {
   "cell_type": "code",
   "execution_count": null,
   "metadata": {},
   "outputs": [],
   "source": [
    "# Liste mit DOIs\n",
    "dois = [\"10.1371/journal.pcbi.1004668\",\n",
    "        \"10.21105/joss.01035\",\n",
    "        \"10.1038/35057062\",\n",
    "        \"10.21105/joss.01006\"]"
   ]
  },
  {
   "cell_type": "code",
   "execution_count": 3,
   "metadata": {},
   "outputs": [],
   "source": [
    "# Daten beziehen und in Variable schreiben\n",
    "doi_json_data = urllib.request.urlopen(full_url).read()"
   ]
  },
  {
   "cell_type": "code",
   "execution_count": 45,
   "metadata": {},
   "outputs": [],
   "source": [
    "# String aus Variable auslesen und mit Python anzeigen\n",
    "# loads steht für load string benötigt Argument sprich Stirng, der geladen werden soll.\n",
    "doi_data = json.loads(doi_json_data)"
   ]
  },
  {
   "cell_type": "code",
   "execution_count": 7,
   "metadata": {},
   "outputs": [
    {
     "data": {
      "text/plain": [
       "dict"
      ]
     },
     "execution_count": 7,
     "metadata": {},
     "output_type": "execute_result"
    }
   ],
   "source": [
    "# Typ der Variable anzeigen lassen\n",
    "type(doi_data)"
   ]
  },
  {
   "cell_type": "code",
   "execution_count": 8,
   "metadata": {},
   "outputs": [
    {
     "data": {
      "text/plain": [
       "{'status': 'ok',\n",
       " 'message-type': 'work',\n",
       " 'message-version': '1.0.0',\n",
       " 'message': {'indexed': {'date-parts': [[2021, 2, 19]],\n",
       "   'date-time': '2021-02-19T17:23:57Z',\n",
       "   'timestamp': 1613755437131},\n",
       "  'reference-count': 6,\n",
       "  'publisher': 'Public Library of Science (PLoS)',\n",
       "  'issue': '1',\n",
       "  'license': [{'URL': 'http://creativecommons.org/licenses/by/4.0/',\n",
       "    'start': {'date-parts': [[2016, 1, 19]],\n",
       "     'date-time': '2016-01-19T00:00:00Z',\n",
       "     'timestamp': 1453161600000},\n",
       "    'delay-in-days': 0,\n",
       "    'content-version': 'vor'}],\n",
       "  'content-domain': {'domain': ['www.ploscompbiol.org'],\n",
       "   'crossmark-restriction': False},\n",
       "  'short-container-title': ['PLoS Comput Biol'],\n",
       "  'DOI': '10.1371/journal.pcbi.1004668',\n",
       "  'type': 'journal-article',\n",
       "  'created': {'date-parts': [[2016, 1, 19]],\n",
       "   'date-time': '2016-01-19T21:35:29Z',\n",
       "   'timestamp': 1453239329000},\n",
       "  'page': 'e1004668',\n",
       "  'update-policy': 'http://dx.doi.org/10.1371/journal.pcbi.corrections_policy',\n",
       "  'source': 'Crossref',\n",
       "  'is-referenced-by-count': 53,\n",
       "  'title': ['A Quick Introduction to Version Control with Git and GitHub'],\n",
       "  'prefix': '10.1371',\n",
       "  'volume': '12',\n",
       "  'author': [{'given': 'John D.',\n",
       "    'family': 'Blischak',\n",
       "    'sequence': 'first',\n",
       "    'affiliation': []},\n",
       "   {'given': 'Emily R.',\n",
       "    'family': 'Davenport',\n",
       "    'sequence': 'additional',\n",
       "    'affiliation': []},\n",
       "   {'given': 'Greg',\n",
       "    'family': 'Wilson',\n",
       "    'sequence': 'additional',\n",
       "    'affiliation': []}],\n",
       "  'member': '340',\n",
       "  'published-online': {'date-parts': [[2016, 1, 19]]},\n",
       "  'reference': [{'key': 'ref1',\n",
       "    'doi-asserted-by': 'crossref',\n",
       "    'first-page': '7',\n",
       "    'DOI': '10.1186/1751-0473-8-7',\n",
       "    'article-title': 'Git can facilitate greater reproducibility and increased transparency in science',\n",
       "    'volume': '8',\n",
       "    'author': 'K Ram',\n",
       "    'year': '2013',\n",
       "    'journal-title': 'Source Code Biol Med'},\n",
       "   {'key': 'ref2',\n",
       "    'doi-asserted-by': 'crossref',\n",
       "    'first-page': 'e1001745',\n",
       "    'DOI': '10.1371/journal.pbio.1001745',\n",
       "    'article-title': 'Best practices for scientific computing',\n",
       "    'volume': '12',\n",
       "    'author': 'G Wilson',\n",
       "    'year': '2014',\n",
       "    'journal-title': 'PLoS Biol'},\n",
       "   {'key': 'ref3',\n",
       "    'doi-asserted-by': 'crossref',\n",
       "    'first-page': '57',\n",
       "    'DOI': '10.1038/nature11247',\n",
       "    'article-title': 'An integrated encyclopedia of DNA elements in the human genome',\n",
       "    'volume': '489',\n",
       "    'author': 'B Bernstein',\n",
       "    'year': '2012',\n",
       "    'journal-title': 'Nature'},\n",
       "   {'key': 'ref4',\n",
       "    'doi-asserted-by': 'crossref',\n",
       "    'first-page': 'e1003326',\n",
       "    'DOI': '10.1371/journal.pcbi.1003326',\n",
       "    'article-title': 'Practical guidelines for the comprehensive analysis of ChIP-seq data',\n",
       "    'volume': '9',\n",
       "    'author': 'T Bailey',\n",
       "    'year': '2013',\n",
       "    'journal-title': 'PLoS Comput Biol'},\n",
       "   {'key': 'ref5',\n",
       "    'doi-asserted-by': 'crossref',\n",
       "    'first-page': 'e1000424',\n",
       "    'DOI': '10.1371/journal.pcbi.1000424',\n",
       "    'article-title': 'A quick guide to organizing computational biology projects',\n",
       "    'volume': '5',\n",
       "    'author': 'W Noble',\n",
       "    'year': '2009',\n",
       "    'journal-title': 'PLoS Comput Biol'},\n",
       "   {'key': 'ref6',\n",
       "    'doi-asserted-by': 'crossref',\n",
       "    'first-page': 'e1002598',\n",
       "    'DOI': '10.1371/journal.pcbi.1002598',\n",
       "    'article-title': 'A quick guide to software licensing for the scientist-programmer',\n",
       "    'volume': '8',\n",
       "    'author': 'A Morin',\n",
       "    'year': '2012',\n",
       "    'journal-title': 'PLoS Comput Biol'}],\n",
       "  'container-title': ['PLOS Computational Biology'],\n",
       "  'original-title': [],\n",
       "  'language': 'en',\n",
       "  'link': [{'URL': 'http://dx.plos.org/10.1371/journal.pcbi.1004668',\n",
       "    'content-type': 'unspecified',\n",
       "    'content-version': 'vor',\n",
       "    'intended-application': 'similarity-checking'}],\n",
       "  'deposited': {'date-parts': [[2020, 5, 8]],\n",
       "   'date-time': '2020-05-08T21:36:54Z',\n",
       "   'timestamp': 1588973814000},\n",
       "  'score': 1.0,\n",
       "  'subtitle': [],\n",
       "  'editor': [{'given': 'Francis',\n",
       "    'family': 'Ouellette',\n",
       "    'sequence': 'first',\n",
       "    'affiliation': []}],\n",
       "  'short-title': [],\n",
       "  'issued': {'date-parts': [[2016, 1, 19]]},\n",
       "  'references-count': 6,\n",
       "  'journal-issue': {'published-online': {'date-parts': [[2016, 1, 19]]},\n",
       "   'issue': '1'},\n",
       "  'URL': 'http://dx.doi.org/10.1371/journal.pcbi.1004668',\n",
       "  'relation': {'cites': []},\n",
       "  'ISSN': ['1553-7358'],\n",
       "  'issn-type': [{'value': '1553-7358', 'type': 'electronic'}],\n",
       "  'subject': ['Ecology',\n",
       "   'Modelling and Simulation',\n",
       "   'Computational Theory and Mathematics',\n",
       "   'Genetics',\n",
       "   'Ecology, Evolution, Behavior and Systematics',\n",
       "   'Molecular Biology',\n",
       "   'Cellular and Molecular Neuroscience']}}"
      ]
     },
     "execution_count": 8,
     "metadata": {},
     "output_type": "execute_result"
    }
   ],
   "source": [
    "# Dataframe ausgeben\n",
    "# mit Print ausgeben hingegen gibt die Daten als String aus\n",
    "# was dann aber nicht so schön ausssieht, wie im Dataframe in Jupyter\n",
    "doi_data"
   ]
  },
  {
   "cell_type": "code",
   "execution_count": 9,
   "metadata": {},
   "outputs": [
    {
     "data": {
      "text/plain": [
       "dict_keys(['status', 'message-type', 'message-version', 'message'])"
      ]
     },
     "execution_count": 9,
     "metadata": {},
     "output_type": "execute_result"
    }
   ],
   "source": [
    "doi_data.keys()"
   ]
  },
  {
   "cell_type": "code",
   "execution_count": 39,
   "metadata": {},
   "outputs": [
    {
     "data": {
      "text/plain": [
       "0"
      ]
     },
     "execution_count": 39,
     "metadata": {},
     "output_type": "execute_result"
    }
   ],
   "source": [
    "doi_data[\"message\"][\"title\"]"
   ]
  },
  {
   "cell_type": "code",
   "execution_count": 46,
   "metadata": {},
   "outputs": [
    {
     "data": {
      "text/plain": [
       "'A Quick Introduction to Version Control with Git and GitHub'"
      ]
     },
     "execution_count": 46,
     "metadata": {},
     "output_type": "execute_result"
    }
   ],
   "source": [
    "doi_data[\"message\"][\"short-container-title\"][0]\n",
    "doi_data[\"message\"][\"title\"][0]"
   ]
  },
  {
   "cell_type": "code",
   "execution_count": 47,
   "metadata": {},
   "outputs": [],
   "source": [
    "title = doi_data[\"message\"][\"title\"][0]\n",
    "journal = doi_data[\"message\"][\"short-container-title\"][0]"
   ]
  },
  {
   "cell_type": "code",
   "execution_count": 55,
   "metadata": {},
   "outputs": [
    {
     "name": "stdout",
     "output_type": "stream",
     "text": [
      "A Quick Introduction to Version Control with Git and GitHub: aus der Zeitschrift: \n",
      "PLoS Comput Biol\n"
     ]
    }
   ],
   "source": [
    "print(title + \": aus der Zeitschrift: \")\n",
    "print(journal)"
   ]
  },
  {
   "cell_type": "markdown",
   "metadata": {},
   "source": [
    "## Challenge"
   ]
  },
  {
   "cell_type": "code",
   "execution_count": 97,
   "metadata": {},
   "outputs": [],
   "source": [
    "# Liste mit DOIs\n",
    "dois = [\"10.1371/journal.pcbi.1004668\",\n",
    "        \"10.21105/joss.01035\",\n",
    "        \"10.1038/35057062\",\n",
    "        \"10.21105/joss.01006\"]\n",
    "base_url = \"https://api.crossref.org/works/\""
   ]
  },
  {
   "cell_type": "code",
   "execution_count": 98,
   "metadata": {},
   "outputs": [
    {
     "name": "stdout",
     "output_type": "stream",
     "text": [
      "https://api.crossref.org/works/10.1371/journal.pcbi.1004668\n"
     ]
    }
   ],
   "source": [
    "print(full_url)"
   ]
  },
  {
   "cell_type": "code",
   "execution_count": 106,
   "metadata": {},
   "outputs": [
    {
     "name": "stdout",
     "output_type": "stream",
     "text": [
      "https://api.crossref.org/works/10.1371/journal.pcbi.1004668\n",
      "Der Titel ist: A Quick Introduction to Version Control with Git and GitHub aus der Zeitschrift: PLoS Comput Biol\n",
      "------\n",
      "https://api.crossref.org/works/10.21105/joss.01035\n",
      "Der Titel ist: nasapower: A NASA POWER Global Meteorology, Surface Solar Energy and Climatology Data Client for R aus der Zeitschrift: JOSS\n",
      "------\n",
      "https://api.crossref.org/works/10.1038/35057062\n",
      "Der Titel ist: Initial sequencing and analysis of the human genome aus der Zeitschrift: Nature\n",
      "------\n",
      "https://api.crossref.org/works/10.21105/joss.01006\n",
      "Der Titel ist: SeqTools: A python package for easy transformation, combination and evaluation of large datasets. aus der Zeitschrift: JOSS\n",
      "------\n"
     ]
    }
   ],
   "source": [
    "for doi in dois:\n",
    "    full_url = base_url + doi\n",
    "    print(full_url)\n",
    "    doi_json_data = urllib.request.urlopen(full_url).read()\n",
    "    doi_data = json.loads(doi_json_data)\n",
    "    journal = doi_data[\"message\"][\"short-container-title\"][0]\n",
    "    title = doi_data[\"message\"][\"title\"][0]\n",
    "    print(\"Der Titel ist: \" + title + \" aus der Zeitschrift: \" + journal)\n",
    "    print(\"------\")"
   ]
  },
  {
   "cell_type": "code",
   "execution_count": null,
   "metadata": {},
   "outputs": [],
   "source": []
  }
 ],
 "metadata": {
  "kernelspec": {
   "display_name": "Python 3",
   "language": "python",
   "name": "python3"
  },
  "language_info": {
   "codemirror_mode": {
    "name": "ipython",
    "version": 3
   },
   "file_extension": ".py",
   "mimetype": "text/x-python",
   "name": "python",
   "nbconvert_exporter": "python",
   "pygments_lexer": "ipython3",
   "version": "3.8.5"
  }
 },
 "nbformat": 4,
 "nbformat_minor": 4
}
